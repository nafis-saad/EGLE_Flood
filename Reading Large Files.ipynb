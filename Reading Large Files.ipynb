{
 "cells": [
  {
   "cell_type": "code",
   "execution_count": 5,
   "id": "56977590",
   "metadata": {},
   "outputs": [],
   "source": [
    "import pandas as pd"
   ]
  },
  {
   "cell_type": "code",
   "execution_count": 6,
   "id": "48542b27",
   "metadata": {},
   "outputs": [],
   "source": [
    "import os\n",
    "os.chdir(\"D:\\Flood_Project\\Model_running\\Trail Run-2\\Matrix-Adjutment Before Trip Assiagnment\\PersonTrips_AM_HBO_INC2\")"
   ]
  },
  {
   "cell_type": "code",
   "execution_count": 7,
   "id": "fa3583b9",
   "metadata": {},
   "outputs": [
    {
     "name": "stdout",
     "output_type": "stream",
     "text": [
      "Processed s1.csv and t1.csv, saved as m1.csv\n",
      "Processed s2.csv and t2.csv, saved as m2.csv\n",
      "Processed s3.csv and t3.csv, saved as m3.csv\n",
      "Processed s4.csv and t4.csv, saved as m4.csv\n",
      "Processed s5.csv and t5.csv, saved as m5.csv\n",
      "Processed s6.csv and t6.csv, saved as m6.csv\n"
     ]
    }
   ],
   "source": [
    "# Define the number of files (s1 to s6 and t1 to t6)\n",
    "num_files = 6  # Adjust based on the actual number of files\n",
    "\n",
    "# Loop through each file number\n",
    "for i in range(1, num_files + 1):\n",
    "    # Construct file names for source, target, and output files\n",
    "    source_file = f\"s{i}.csv\"  # Source file (s1.csv, s2.csv, ...)\n",
    "    target_file = f\"t{i}.csv\"  # Target file (t1.csv, t2.csv, ...)\n",
    "    output_file = f\"m{i}.csv\"  # Output file (m1.csv, m2.csv, ...)\n",
    "    \n",
    "    # Step 1: Load the source and target CSV files\n",
    "    source_df = pd.read_csv(source_file)  # Load the source file\n",
    "    target_df = pd.read_csv(target_file)  # Load the target file\n",
    "\n",
    "    # Step 2: Extract the desired submatrix from the source file\n",
    "    submatrix = source_df.iloc[400:, 401:]  # Extract from row 401, col 401 onward\n",
    "\n",
    "    # Step 3: Paste the submatrix into the target file at the same location\n",
    "    target_df.iloc[400:, 401:] = submatrix\n",
    "\n",
    "    # Step 4: Save the modified target DataFrame to a new CSV file\n",
    "    target_df.to_csv(output_file, index=False, header=True)\n",
    "    \n",
    "    print(f\"Processed {source_file} and {target_file}, saved as {output_file}\")\n"
   ]
  },
  {
   "cell_type": "code",
   "execution_count": null,
   "id": "fe53c677",
   "metadata": {},
   "outputs": [],
   "source": []
  },
  {
   "cell_type": "code",
   "execution_count": null,
   "id": "49d14164",
   "metadata": {},
   "outputs": [],
   "source": [
    "\n"
   ]
  }
 ],
 "metadata": {
  "kernelspec": {
   "display_name": "Python 3",
   "language": "python",
   "name": "python3"
  },
  "language_info": {
   "codemirror_mode": {
    "name": "ipython",
    "version": 3
   },
   "file_extension": ".py",
   "mimetype": "text/x-python",
   "name": "python",
   "nbconvert_exporter": "python",
   "pygments_lexer": "ipython3",
   "version": "3.9.11"
  }
 },
 "nbformat": 4,
 "nbformat_minor": 5
}
