{
 "cells": [
  {
   "cell_type": "code",
   "execution_count": 1,
   "id": "10b20b01",
   "metadata": {},
   "outputs": [],
   "source": [
    "import pandas as pd"
   ]
  },
  {
   "cell_type": "code",
   "execution_count": 2,
   "id": "0556d818",
   "metadata": {},
   "outputs": [],
   "source": [
    "import os\n",
    "os.chdir(\"D:\\Flood_Project\\Model_running\\Trail Run-3\\Matrix-Adjutment Before Trip Assiagnment\\PersonTrips_AM_HBW_INC1\")"
   ]
  },
  {
   "cell_type": "code",
   "execution_count": 3,
   "id": "00801e66",
   "metadata": {},
   "outputs": [],
   "source": [
    "import time"
   ]
  },
  {
   "cell_type": "code",
   "execution_count": 4,
   "id": "e1d81b05",
   "metadata": {},
   "outputs": [],
   "source": [
    "# Record the start time\n",
    "start_time = time.time()"
   ]
  },
  {
   "cell_type": "code",
   "execution_count": 5,
   "id": "e6d793ac",
   "metadata": {},
   "outputs": [
    {
     "name": "stderr",
     "output_type": "stream",
     "text": [
      "C:\\Users\\hq8312\\AppData\\Roaming\\Python\\Python39\\site-packages\\openpyxl\\styles\\stylesheet.py:232: UserWarning: Workbook contains no stylesheet, using openpyxl's defaults\n",
      "  warn(\"Workbook contains no stylesheet, using openpyxl's defaults\")\n"
     ]
    },
    {
     "name": "stdout",
     "output_type": "stream",
     "text": [
      "Saved Drive Alone as s1.csv\n",
      "Saved Drive Alone as t1.csv\n",
      "Saved Shared Ride 2 as s2.csv\n",
      "Saved Shared Ride 2 as t2.csv\n",
      "Saved Shared Ride 3+ as s3.csv\n",
      "Saved Shared Ride 3+ as t3.csv\n",
      "Saved WLK Bus as s4.csv\n",
      "Saved WLK Bus as t4.csv\n",
      "Saved Walk as s5.csv\n",
      "Saved Walk as t5.csv\n",
      "Saved Bike as s6.csv\n",
      "Saved Bike as t6.csv\n"
     ]
    }
   ],
   "source": [
    "import pandas as pd\n",
    "\n",
    "# Load the source and target Excel files\n",
    "source_excel = \"PersonTrips_AM_HBW_INC1_2015.xlsx\"\n",
    "target_excel = \"PersonTrips_AM_HBW_INC1.xlsx\"\n",
    "\n",
    "# Load each Excel file\n",
    "source_xls = pd.ExcelFile(source_excel)\n",
    "target_xls = pd.ExcelFile(target_excel)\n",
    "\n",
    "# Loop through each sheet in the source and target files and save them as CSVs\n",
    "for i, (source_sheet, target_sheet) in enumerate(zip(source_xls.sheet_names, target_xls.sheet_names), start=1):\n",
    "    # Read each sheet from the source and target files\n",
    "    source_df = source_xls.parse(source_sheet)\n",
    "    target_df = target_xls.parse(target_sheet)\n",
    "    \n",
    "    # Save the source and target DataFrames as CSV files, with names like s1.csv, t1.csv, etc.\n",
    "    source_csv_filename = f\"s{i}.csv\"\n",
    "    target_csv_filename = f\"t{i}.csv\"\n",
    "    \n",
    "    source_df.to_csv(source_csv_filename, index=False)\n",
    "    target_df.to_csv(target_csv_filename, index=False)\n",
    "    \n",
    "    print(f\"Saved {source_sheet} as {source_csv_filename}\")\n",
    "    print(f\"Saved {target_sheet} as {target_csv_filename}\")\n"
   ]
  },
  {
   "cell_type": "code",
   "execution_count": 6,
   "id": "faad57fb",
   "metadata": {},
   "outputs": [
    {
     "name": "stdout",
     "output_type": "stream",
     "text": [
      "Processed s1.csv and t1.csv, saved as m1.csv\n",
      "Processed s2.csv and t2.csv, saved as m2.csv\n",
      "Processed s3.csv and t3.csv, saved as m3.csv\n",
      "Processed s4.csv and t4.csv, saved as m4.csv\n",
      "Processed s5.csv and t5.csv, saved as m5.csv\n",
      "Processed s6.csv and t6.csv, saved as m6.csv\n"
     ]
    }
   ],
   "source": [
    "# Define the number of files (s1 to s6 and t1 to t6)\n",
    "num_files = 6  # Adjust based on the actual number of files\n",
    "\n",
    "# Loop through each file number\n",
    "for i in range(1, num_files + 1):\n",
    "    # Construct file names for source, target, and output files\n",
    "    source_file = f\"s{i}.csv\"  # Source file (s1.csv, s2.csv, ...)\n",
    "    target_file = f\"t{i}.csv\"  # Target file (t1.csv, t2.csv, ...)\n",
    "    output_file = f\"m{i}.csv\"  # Output file (m1.csv, m2.csv, ...)\n",
    "    \n",
    "    # Step 1: Load the source and target CSV files\n",
    "    source_df = pd.read_csv(source_file)  # Load the source file\n",
    "    target_df = pd.read_csv(target_file)  # Load the target file\n",
    "\n",
    "    # Step 2: Extract the desired submatrix from the source file\n",
    "    submatrix = source_df.iloc[400:, 401:]  # Extract from row 401, col 401 onward\n",
    "\n",
    "    # Step 3: Paste the submatrix into the target file at the same location\n",
    "    target_df.iloc[400:, 401:] = submatrix\n",
    "\n",
    "    # Step 4: Save the modified target DataFrame to a new CSV file\n",
    "    target_df.to_csv(output_file, index=False, header=True)\n",
    "    \n",
    "    print(f\"Processed {source_file} and {target_file}, saved as {output_file}\")"
   ]
  },
  {
   "cell_type": "code",
   "execution_count": 7,
   "id": "1c96723b",
   "metadata": {},
   "outputs": [
    {
     "name": "stdout",
     "output_type": "stream",
     "text": [
      "Execution time: 1523.26 seconds\n"
     ]
    }
   ],
   "source": [
    "# Record the end time\n",
    "end_time = time.time()\n",
    "\n",
    "# Calculate the execution time\n",
    "execution_time = end_time - start_time\n",
    "print(f\"Execution time: {execution_time:.2f} seconds\")"
   ]
  }
 ],
 "metadata": {
  "kernelspec": {
   "display_name": "Python 3",
   "language": "python",
   "name": "python3"
  },
  "language_info": {
   "codemirror_mode": {
    "name": "ipython",
    "version": 3
   },
   "file_extension": ".py",
   "mimetype": "text/x-python",
   "name": "python",
   "nbconvert_exporter": "python",
   "pygments_lexer": "ipython3",
   "version": "3.9.11"
  }
 },
 "nbformat": 4,
 "nbformat_minor": 5
}
